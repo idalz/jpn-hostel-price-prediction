{
 "cells": [
  {
   "cell_type": "markdown",
   "metadata": {},
   "source": [
    "# Conclusion"
   ]
  },
  {
   "cell_type": "markdown",
   "metadata": {},
   "source": [
    "## 1. Data Insights\n",
    "Analysis of the hostel data reveals several key insights. Generally, hostel prices range from 1000 to 4000 yen per night, although there are outliers. Notably, higher-priced hostels often boast commendable features such as high ratings and close proximity to city centers. While Tokyo, Kyoto, and Osaka emerge as the cities with the highest concentration of hostels, it's interesting to note that Kyoto tends to offer lower prices compared to its counterparts. Most hostels are situated within 0-20 kilometers from city centers, with exceptions that exceed 25 kilometers. On average, hostels in Tokyo tend to have larger distances. Additionally, there appears to be strong correlations among hostel features, suggesting that each hostel prioritizes maintaining high standards across all aspects. Interestingly, there's a noticeable trend indicating that as the distance from the city center increases, the location score tends to decrease."
   ]
  },
  {
   "cell_type": "markdown",
   "metadata": {},
   "source": [
    "## 2. Model choice\n",
    "After experimenting with various models, the CatBoostRegressor was ultimately chosen due to slightly improved results. However, it's important to note that the model's performance still falls short of expectations. Despite its selection, the MAE of 580 within a price range of 1000 to 4000 (with some outliers exceeding 6000) and the significantly low R-squared value of 0.16 during training indicate substantial room for improvement. Furthermore, the negative R-squared value observed during evaluation suggests that the model's predictions are essentially random, although the MAE remained consistent at 580. Following attempts to refine the model using randomsearchcv, some progress was made, with the MAE decreasing to 535 and the R-squared value improving to 0.1 during evaluation. While these adjustments show potential for enhancement, it's evident that further refinement and exploration of alternative strategies are necessary to achieve satisfactory predictive performance.\n"
   ]
  },
  {
   "cell_type": "markdown",
   "metadata": {},
   "source": [
    "## 3. What's Next\n",
    "- Since the model isn't performing well, getting more data might help. More data can provide better insights and patterns for the model to learn from.\n",
    "- Introduce new features that might capture important information not currently considered by the model.\n",
    "- Outliers can skew the model's understanding of the data. Consider identifying and removing outliers, especially in features where they may have a significant impact on the model's performance."
   ]
  },
  {
   "cell_type": "markdown",
   "metadata": {},
   "source": []
  }
 ],
 "metadata": {
  "language_info": {
   "name": "python"
  }
 },
 "nbformat": 4,
 "nbformat_minor": 2
}
