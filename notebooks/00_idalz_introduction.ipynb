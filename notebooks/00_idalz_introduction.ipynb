{
 "cells": [
  {
   "cell_type": "markdown",
   "metadata": {},
   "source": [
    "# Japan Hostel Price Prediction"
   ]
  },
  {
   "cell_type": "markdown",
   "metadata": {},
   "source": [
    "## 1. About the data\n",
    "- Data Source: [Hostel World Dataset](https://www.kaggle.com/datasets/koki25ando/hostel-world-dataset)\n",
    "- The data was scraped by the Kaggle contributor during 2018.\n",
    "- The dataset consists of 16 columns and 342 rows.\n",
    "\n",
    "#### Dataset Information\n",
    "- hostel.name: Hostel Name\n",
    "- City: City name where the hostel is located\n",
    "- price.from: Minimum Price for a 1-night stay\n",
    "- Distance: Distance from the city center (km)\n",
    "- summary.score: Summary score of ratings\n",
    "- rating.band: Rating band\n",
    "- atmosphere: Rating score of atmosphere\n",
    "- cleanliness: Rating score of cleanliness\n",
    "- facilities: Rating score of facilities\n",
    "- location.y: Rating score of location\n",
    "- security: Rating score of security\n",
    "- staff: Rating score of staff\n",
    "- valueformoney: Rating score of value for money\n",
    "- lon: Longitude\n",
    "- lat: Latitude"
   ]
  },
  {
   "cell_type": "markdown",
   "metadata": {},
   "source": [
    "## 2. The problem\n",
    "In recent years, the popularity of hostels as an accommodation option for travelers in Japan has surged due to their affordability and unique cultural experiences. However, determining the price per night for these hostels can be challenging, as it depends on various factors such as location, facilities, seasonality, and local events. This unpredictability makes it difficult for both travelers and hostel operators to set and estimate competitive prices."
   ]
  },
  {
   "cell_type": "markdown",
   "metadata": {},
   "source": [
    "## 3. The goal\n",
    "Our main goal is to create a regression model that can predict a hostel's price per night based on its features. Also, data analysis will be performed in order to find out hidden insights about the Japanese hostels."
   ]
  },
  {
   "cell_type": "markdown",
   "metadata": {},
   "source": [
    "## 4. Objectives\n",
    "- Explore and understand the dataset.\n",
    "- Gain insights into the japanese hostels features and their prices.\n",
    "- Evaluate various regression algorithms and select the most promising.\n",
    "- Fine-tune their hyperparameters to optimize performance."
   ]
  },
  {
   "cell_type": "markdown",
   "metadata": {},
   "source": []
  }
 ],
 "metadata": {
  "language_info": {
   "name": "python"
  }
 },
 "nbformat": 4,
 "nbformat_minor": 2
}
