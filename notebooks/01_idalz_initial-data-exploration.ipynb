{
 "cells": [
  {
   "cell_type": "markdown",
   "metadata": {},
   "source": [
    "# Initial data exploration\n",
    "In this step, we will get basic information about the data and what we need to do during the next step: data preprocessing."
   ]
  },
  {
   "cell_type": "markdown",
   "metadata": {},
   "source": [
    "## 1. Import Packages and Data"
   ]
  },
  {
   "cell_type": "code",
   "execution_count": 1,
   "metadata": {},
   "outputs": [],
   "source": [
    "import pandas as pd"
   ]
  },
  {
   "cell_type": "code",
   "execution_count": 2,
   "metadata": {},
   "outputs": [],
   "source": [
    "filepath= \"./jpn-hostel-data/raw.csv\"\n",
    "df = pd.read_csv(filepath)"
   ]
  },
  {
   "cell_type": "code",
   "execution_count": 3,
   "metadata": {},
   "outputs": [
    {
     "data": {
      "text/html": [
       "<div>\n",
       "<style scoped>\n",
       "    .dataframe tbody tr th:only-of-type {\n",
       "        vertical-align: middle;\n",
       "    }\n",
       "\n",
       "    .dataframe tbody tr th {\n",
       "        vertical-align: top;\n",
       "    }\n",
       "\n",
       "    .dataframe thead th {\n",
       "        text-align: right;\n",
       "    }\n",
       "</style>\n",
       "<table border=\"1\" class=\"dataframe\">\n",
       "  <thead>\n",
       "    <tr style=\"text-align: right;\">\n",
       "      <th></th>\n",
       "      <th>Unnamed: 0</th>\n",
       "      <th>hostel.name</th>\n",
       "      <th>City</th>\n",
       "      <th>price.from</th>\n",
       "      <th>Distance</th>\n",
       "      <th>summary.score</th>\n",
       "      <th>rating.band</th>\n",
       "      <th>atmosphere</th>\n",
       "      <th>cleanliness</th>\n",
       "      <th>facilities</th>\n",
       "      <th>location.y</th>\n",
       "      <th>security</th>\n",
       "      <th>staff</th>\n",
       "      <th>valueformoney</th>\n",
       "      <th>lon</th>\n",
       "      <th>lat</th>\n",
       "    </tr>\n",
       "  </thead>\n",
       "  <tbody>\n",
       "    <tr>\n",
       "      <th>0</th>\n",
       "      <td>1</td>\n",
       "      <td>\"Bike &amp; Bed\" CharinCo Hostel</td>\n",
       "      <td>Osaka</td>\n",
       "      <td>3300</td>\n",
       "      <td>2.9km from city centre</td>\n",
       "      <td>9.2</td>\n",
       "      <td>Superb</td>\n",
       "      <td>8.9</td>\n",
       "      <td>9.4</td>\n",
       "      <td>9.3</td>\n",
       "      <td>8.9</td>\n",
       "      <td>9.0</td>\n",
       "      <td>9.4</td>\n",
       "      <td>9.4</td>\n",
       "      <td>135.513767</td>\n",
       "      <td>34.682678</td>\n",
       "    </tr>\n",
       "    <tr>\n",
       "      <th>1</th>\n",
       "      <td>2</td>\n",
       "      <td>&amp; And Hostel</td>\n",
       "      <td>Fukuoka-City</td>\n",
       "      <td>2600</td>\n",
       "      <td>0.7km from city centre</td>\n",
       "      <td>9.5</td>\n",
       "      <td>Superb</td>\n",
       "      <td>9.4</td>\n",
       "      <td>9.7</td>\n",
       "      <td>9.5</td>\n",
       "      <td>9.7</td>\n",
       "      <td>9.2</td>\n",
       "      <td>9.7</td>\n",
       "      <td>9.5</td>\n",
       "      <td>NaN</td>\n",
       "      <td>NaN</td>\n",
       "    </tr>\n",
       "    <tr>\n",
       "      <th>2</th>\n",
       "      <td>3</td>\n",
       "      <td>&amp;And Hostel Akihabara</td>\n",
       "      <td>Tokyo</td>\n",
       "      <td>3600</td>\n",
       "      <td>7.8km from city centre</td>\n",
       "      <td>8.7</td>\n",
       "      <td>Fabulous</td>\n",
       "      <td>8.0</td>\n",
       "      <td>7.0</td>\n",
       "      <td>9.0</td>\n",
       "      <td>8.0</td>\n",
       "      <td>10.0</td>\n",
       "      <td>10.0</td>\n",
       "      <td>9.0</td>\n",
       "      <td>139.777472</td>\n",
       "      <td>35.697447</td>\n",
       "    </tr>\n",
       "    <tr>\n",
       "      <th>3</th>\n",
       "      <td>4</td>\n",
       "      <td>&amp;And Hostel Ueno</td>\n",
       "      <td>Tokyo</td>\n",
       "      <td>2600</td>\n",
       "      <td>8.7km from city centre</td>\n",
       "      <td>7.4</td>\n",
       "      <td>Very Good</td>\n",
       "      <td>8.0</td>\n",
       "      <td>7.5</td>\n",
       "      <td>7.5</td>\n",
       "      <td>7.5</td>\n",
       "      <td>7.0</td>\n",
       "      <td>8.0</td>\n",
       "      <td>6.5</td>\n",
       "      <td>139.783667</td>\n",
       "      <td>35.712716</td>\n",
       "    </tr>\n",
       "    <tr>\n",
       "      <th>4</th>\n",
       "      <td>5</td>\n",
       "      <td>&amp;And Hostel-Asakusa North-</td>\n",
       "      <td>Tokyo</td>\n",
       "      <td>1500</td>\n",
       "      <td>10.5km from city centre</td>\n",
       "      <td>9.4</td>\n",
       "      <td>Superb</td>\n",
       "      <td>9.5</td>\n",
       "      <td>9.5</td>\n",
       "      <td>9.0</td>\n",
       "      <td>9.0</td>\n",
       "      <td>9.5</td>\n",
       "      <td>10.0</td>\n",
       "      <td>9.5</td>\n",
       "      <td>139.798371</td>\n",
       "      <td>35.727898</td>\n",
       "    </tr>\n",
       "  </tbody>\n",
       "</table>\n",
       "</div>"
      ],
      "text/plain": [
       "   Unnamed: 0                   hostel.name          City  price.from  \\\n",
       "0           1  \"Bike & Bed\" CharinCo Hostel         Osaka        3300   \n",
       "1           2                  & And Hostel  Fukuoka-City        2600   \n",
       "2           3         &And Hostel Akihabara         Tokyo        3600   \n",
       "3           4              &And Hostel Ueno         Tokyo        2600   \n",
       "4           5    &And Hostel-Asakusa North-         Tokyo        1500   \n",
       "\n",
       "                  Distance  summary.score rating.band  atmosphere  \\\n",
       "0   2.9km from city centre            9.2      Superb         8.9   \n",
       "1   0.7km from city centre            9.5      Superb         9.4   \n",
       "2   7.8km from city centre            8.7    Fabulous         8.0   \n",
       "3   8.7km from city centre            7.4   Very Good         8.0   \n",
       "4  10.5km from city centre            9.4      Superb         9.5   \n",
       "\n",
       "   cleanliness  facilities  location.y  security  staff  valueformoney  \\\n",
       "0          9.4         9.3         8.9       9.0    9.4            9.4   \n",
       "1          9.7         9.5         9.7       9.2    9.7            9.5   \n",
       "2          7.0         9.0         8.0      10.0   10.0            9.0   \n",
       "3          7.5         7.5         7.5       7.0    8.0            6.5   \n",
       "4          9.5         9.0         9.0       9.5   10.0            9.5   \n",
       "\n",
       "          lon        lat  \n",
       "0  135.513767  34.682678  \n",
       "1         NaN        NaN  \n",
       "2  139.777472  35.697447  \n",
       "3  139.783667  35.712716  \n",
       "4  139.798371  35.727898  "
      ]
     },
     "execution_count": 3,
     "metadata": {},
     "output_type": "execute_result"
    }
   ],
   "source": [
    "df.head()"
   ]
  },
  {
   "cell_type": "code",
   "execution_count": 4,
   "metadata": {},
   "outputs": [
    {
     "data": {
      "text/plain": [
       "(342, 16)"
      ]
     },
     "execution_count": 4,
     "metadata": {},
     "output_type": "execute_result"
    }
   ],
   "source": [
    "df.shape"
   ]
  },
  {
   "cell_type": "markdown",
   "metadata": {},
   "source": [
    "## 2. Data checks to perform\n",
    "- Missing values\n",
    "- Duplicates\n",
    "- Data type\n",
    "- Numbeer of unique values\n",
    "- Statistics of numerical features\n",
    "- Categories present in categorical features"
   ]
  },
  {
   "cell_type": "markdown",
   "metadata": {},
   "source": [
    "### 2.1. Missing values"
   ]
  },
  {
   "cell_type": "code",
   "execution_count": 5,
   "metadata": {},
   "outputs": [
    {
     "data": {
      "text/plain": [
       "Unnamed: 0        0\n",
       "hostel.name       0\n",
       "City              0\n",
       "price.from        0\n",
       "Distance          0\n",
       "summary.score    15\n",
       "rating.band      15\n",
       "atmosphere       15\n",
       "cleanliness      15\n",
       "facilities       15\n",
       "location.y       15\n",
       "security         15\n",
       "staff            15\n",
       "valueformoney    15\n",
       "lon              44\n",
       "lat              44\n",
       "dtype: int64"
      ]
     },
     "execution_count": 5,
     "metadata": {},
     "output_type": "execute_result"
    }
   ],
   "source": [
    "df.isna().sum()"
   ]
  },
  {
   "cell_type": "markdown",
   "metadata": {},
   "source": [
    "### 2.2. Duplicates"
   ]
  },
  {
   "cell_type": "code",
   "execution_count": 6,
   "metadata": {},
   "outputs": [
    {
     "data": {
      "text/plain": [
       "0"
      ]
     },
     "execution_count": 6,
     "metadata": {},
     "output_type": "execute_result"
    }
   ],
   "source": [
    "df.duplicated().sum()"
   ]
  },
  {
   "cell_type": "markdown",
   "metadata": {},
   "source": [
    "### 2.3. Data types"
   ]
  },
  {
   "cell_type": "code",
   "execution_count": 7,
   "metadata": {},
   "outputs": [
    {
     "name": "stdout",
     "output_type": "stream",
     "text": [
      "<class 'pandas.core.frame.DataFrame'>\n",
      "RangeIndex: 342 entries, 0 to 341\n",
      "Data columns (total 16 columns):\n",
      " #   Column         Non-Null Count  Dtype  \n",
      "---  ------         --------------  -----  \n",
      " 0   Unnamed: 0     342 non-null    int64  \n",
      " 1   hostel.name    342 non-null    object \n",
      " 2   City           342 non-null    object \n",
      " 3   price.from     342 non-null    int64  \n",
      " 4   Distance       342 non-null    object \n",
      " 5   summary.score  327 non-null    float64\n",
      " 6   rating.band    327 non-null    object \n",
      " 7   atmosphere     327 non-null    float64\n",
      " 8   cleanliness    327 non-null    float64\n",
      " 9   facilities     327 non-null    float64\n",
      " 10  location.y     327 non-null    float64\n",
      " 11  security       327 non-null    float64\n",
      " 12  staff          327 non-null    float64\n",
      " 13  valueformoney  327 non-null    float64\n",
      " 14  lon            298 non-null    float64\n",
      " 15  lat            298 non-null    float64\n",
      "dtypes: float64(10), int64(2), object(4)\n",
      "memory usage: 42.9+ KB\n"
     ]
    }
   ],
   "source": [
    "df.info()"
   ]
  },
  {
   "cell_type": "markdown",
   "metadata": {},
   "source": [
    "### 2.4. Number of unique values"
   ]
  },
  {
   "cell_type": "code",
   "execution_count": 8,
   "metadata": {},
   "outputs": [
    {
     "data": {
      "text/plain": [
       "Unnamed: 0       342\n",
       "hostel.name      342\n",
       "City               5\n",
       "price.from        42\n",
       "Distance         119\n",
       "summary.score     44\n",
       "rating.band        5\n",
       "atmosphere        42\n",
       "cleanliness       38\n",
       "facilities        40\n",
       "location.y        36\n",
       "security          38\n",
       "staff             30\n",
       "valueformoney     35\n",
       "lon              296\n",
       "lat              296\n",
       "dtype: int64"
      ]
     },
     "execution_count": 8,
     "metadata": {},
     "output_type": "execute_result"
    }
   ],
   "source": [
    "df.nunique()"
   ]
  },
  {
   "cell_type": "markdown",
   "metadata": {},
   "source": [
    "### 2.5. Statistics for numerical features"
   ]
  },
  {
   "cell_type": "code",
   "execution_count": 9,
   "metadata": {},
   "outputs": [
    {
     "data": {
      "text/html": [
       "<div>\n",
       "<style scoped>\n",
       "    .dataframe tbody tr th:only-of-type {\n",
       "        vertical-align: middle;\n",
       "    }\n",
       "\n",
       "    .dataframe tbody tr th {\n",
       "        vertical-align: top;\n",
       "    }\n",
       "\n",
       "    .dataframe thead th {\n",
       "        text-align: right;\n",
       "    }\n",
       "</style>\n",
       "<table border=\"1\" class=\"dataframe\">\n",
       "  <thead>\n",
       "    <tr style=\"text-align: right;\">\n",
       "      <th></th>\n",
       "      <th>count</th>\n",
       "      <th>mean</th>\n",
       "      <th>std</th>\n",
       "      <th>min</th>\n",
       "      <th>25%</th>\n",
       "      <th>50%</th>\n",
       "      <th>75%</th>\n",
       "      <th>max</th>\n",
       "    </tr>\n",
       "  </thead>\n",
       "  <tbody>\n",
       "    <tr>\n",
       "      <th>Unnamed: 0</th>\n",
       "      <td>342.0</td>\n",
       "      <td>171.500000</td>\n",
       "      <td>98.871128</td>\n",
       "      <td>1.000000</td>\n",
       "      <td>86.250000</td>\n",
       "      <td>171.500000</td>\n",
       "      <td>256.750000</td>\n",
       "      <td>3.420000e+02</td>\n",
       "    </tr>\n",
       "    <tr>\n",
       "      <th>price.from</th>\n",
       "      <td>342.0</td>\n",
       "      <td>8388.011696</td>\n",
       "      <td>76415.272323</td>\n",
       "      <td>1000.000000</td>\n",
       "      <td>2000.000000</td>\n",
       "      <td>2500.000000</td>\n",
       "      <td>2900.000000</td>\n",
       "      <td>1.003200e+06</td>\n",
       "    </tr>\n",
       "    <tr>\n",
       "      <th>summary.score</th>\n",
       "      <td>327.0</td>\n",
       "      <td>8.782569</td>\n",
       "      <td>0.960909</td>\n",
       "      <td>3.100000</td>\n",
       "      <td>8.600000</td>\n",
       "      <td>9.000000</td>\n",
       "      <td>9.400000</td>\n",
       "      <td>1.000000e+01</td>\n",
       "    </tr>\n",
       "    <tr>\n",
       "      <th>atmosphere</th>\n",
       "      <td>327.0</td>\n",
       "      <td>8.238838</td>\n",
       "      <td>1.382002</td>\n",
       "      <td>2.000000</td>\n",
       "      <td>7.800000</td>\n",
       "      <td>8.600000</td>\n",
       "      <td>9.000000</td>\n",
       "      <td>1.000000e+01</td>\n",
       "    </tr>\n",
       "    <tr>\n",
       "      <th>cleanliness</th>\n",
       "      <td>327.0</td>\n",
       "      <td>9.011927</td>\n",
       "      <td>1.215775</td>\n",
       "      <td>2.000000</td>\n",
       "      <td>8.800000</td>\n",
       "      <td>9.300000</td>\n",
       "      <td>9.800000</td>\n",
       "      <td>1.000000e+01</td>\n",
       "    </tr>\n",
       "    <tr>\n",
       "      <th>facilities</th>\n",
       "      <td>327.0</td>\n",
       "      <td>8.597554</td>\n",
       "      <td>1.285356</td>\n",
       "      <td>2.000000</td>\n",
       "      <td>8.000000</td>\n",
       "      <td>9.000000</td>\n",
       "      <td>9.300000</td>\n",
       "      <td>1.000000e+01</td>\n",
       "    </tr>\n",
       "    <tr>\n",
       "      <th>location.y</th>\n",
       "      <td>327.0</td>\n",
       "      <td>8.694801</td>\n",
       "      <td>1.102703</td>\n",
       "      <td>2.000000</td>\n",
       "      <td>8.000000</td>\n",
       "      <td>9.000000</td>\n",
       "      <td>9.400000</td>\n",
       "      <td>1.000000e+01</td>\n",
       "    </tr>\n",
       "    <tr>\n",
       "      <th>security</th>\n",
       "      <td>327.0</td>\n",
       "      <td>8.947401</td>\n",
       "      <td>1.114345</td>\n",
       "      <td>2.000000</td>\n",
       "      <td>8.700000</td>\n",
       "      <td>9.200000</td>\n",
       "      <td>9.600000</td>\n",
       "      <td>1.000000e+01</td>\n",
       "    </tr>\n",
       "    <tr>\n",
       "      <th>staff</th>\n",
       "      <td>327.0</td>\n",
       "      <td>9.133333</td>\n",
       "      <td>1.086513</td>\n",
       "      <td>2.000000</td>\n",
       "      <td>9.000000</td>\n",
       "      <td>9.400000</td>\n",
       "      <td>9.800000</td>\n",
       "      <td>1.000000e+01</td>\n",
       "    </tr>\n",
       "    <tr>\n",
       "      <th>valueformoney</th>\n",
       "      <td>327.0</td>\n",
       "      <td>8.848318</td>\n",
       "      <td>1.047809</td>\n",
       "      <td>4.000000</td>\n",
       "      <td>8.600000</td>\n",
       "      <td>9.000000</td>\n",
       "      <td>9.500000</td>\n",
       "      <td>1.000000e+01</td>\n",
       "    </tr>\n",
       "    <tr>\n",
       "      <th>lon</th>\n",
       "      <td>298.0</td>\n",
       "      <td>136.756376</td>\n",
       "      <td>3.251995</td>\n",
       "      <td>103.873135</td>\n",
       "      <td>135.505314</td>\n",
       "      <td>135.761617</td>\n",
       "      <td>139.770187</td>\n",
       "      <td>1.398779e+02</td>\n",
       "    </tr>\n",
       "    <tr>\n",
       "      <th>lat</th>\n",
       "      <td>298.0</td>\n",
       "      <td>34.976583</td>\n",
       "      <td>2.040896</td>\n",
       "      <td>1.310820</td>\n",
       "      <td>34.668900</td>\n",
       "      <td>34.998470</td>\n",
       "      <td>35.696709</td>\n",
       "      <td>3.620482e+01</td>\n",
       "    </tr>\n",
       "  </tbody>\n",
       "</table>\n",
       "</div>"
      ],
      "text/plain": [
       "               count         mean           std          min          25%  \\\n",
       "Unnamed: 0     342.0   171.500000     98.871128     1.000000    86.250000   \n",
       "price.from     342.0  8388.011696  76415.272323  1000.000000  2000.000000   \n",
       "summary.score  327.0     8.782569      0.960909     3.100000     8.600000   \n",
       "atmosphere     327.0     8.238838      1.382002     2.000000     7.800000   \n",
       "cleanliness    327.0     9.011927      1.215775     2.000000     8.800000   \n",
       "facilities     327.0     8.597554      1.285356     2.000000     8.000000   \n",
       "location.y     327.0     8.694801      1.102703     2.000000     8.000000   \n",
       "security       327.0     8.947401      1.114345     2.000000     8.700000   \n",
       "staff          327.0     9.133333      1.086513     2.000000     9.000000   \n",
       "valueformoney  327.0     8.848318      1.047809     4.000000     8.600000   \n",
       "lon            298.0   136.756376      3.251995   103.873135   135.505314   \n",
       "lat            298.0    34.976583      2.040896     1.310820    34.668900   \n",
       "\n",
       "                       50%          75%           max  \n",
       "Unnamed: 0      171.500000   256.750000  3.420000e+02  \n",
       "price.from     2500.000000  2900.000000  1.003200e+06  \n",
       "summary.score     9.000000     9.400000  1.000000e+01  \n",
       "atmosphere        8.600000     9.000000  1.000000e+01  \n",
       "cleanliness       9.300000     9.800000  1.000000e+01  \n",
       "facilities        9.000000     9.300000  1.000000e+01  \n",
       "location.y        9.000000     9.400000  1.000000e+01  \n",
       "security          9.200000     9.600000  1.000000e+01  \n",
       "staff             9.400000     9.800000  1.000000e+01  \n",
       "valueformoney     9.000000     9.500000  1.000000e+01  \n",
       "lon             135.761617   139.770187  1.398779e+02  \n",
       "lat              34.998470    35.696709  3.620482e+01  "
      ]
     },
     "execution_count": 9,
     "metadata": {},
     "output_type": "execute_result"
    }
   ],
   "source": [
    "df.describe().T"
   ]
  },
  {
   "cell_type": "markdown",
   "metadata": {},
   "source": [
    "### 2.6. Categories present in categorical features"
   ]
  },
  {
   "cell_type": "code",
   "execution_count": 10,
   "metadata": {},
   "outputs": [
    {
     "name": "stdout",
     "output_type": "stream",
     "text": [
      "Unique values for City:\n",
      "['Osaka' 'Fukuoka-City' 'Tokyo' 'Hiroshima' 'Kyoto']\n",
      "\n",
      "\n",
      "Unique values for rating.band:\n",
      "['Superb' 'Fabulous' 'Very Good' nan 'Rating' 'Good']\n",
      "\n",
      "\n"
     ]
    }
   ],
   "source": [
    "object_columns = df.select_dtypes(include='object').columns\n",
    "\n",
    "# Print unique values for the categorical features\n",
    "for column in object_columns:\n",
    "    if df[column].nunique()<10:\n",
    "        print(f\"Unique values for {column}:\")\n",
    "        print(df[column].unique())\n",
    "        print(\"\\n\")"
   ]
  },
  {
   "cell_type": "markdown",
   "metadata": {},
   "source": [
    "## 3. Observations\n",
    "- There are some missing values\n",
    "- Price.from probably has some outliers (Mean >> Median)\n",
    "- Unnamed: 0, can be removed (it is index)\n",
    "- hostel.name, lon, lat can be removed (not relevant for this project)\n",
    "- Distance should be converted to numerical"
   ]
  },
  {
   "cell_type": "markdown",
   "metadata": {},
   "source": []
  }
 ],
 "metadata": {
  "kernelspec": {
   "display_name": "Python 3",
   "language": "python",
   "name": "python3"
  },
  "language_info": {
   "codemirror_mode": {
    "name": "ipython",
    "version": 3
   },
   "file_extension": ".py",
   "mimetype": "text/x-python",
   "name": "python",
   "nbconvert_exporter": "python",
   "pygments_lexer": "ipython3",
   "version": "3.8.18"
  }
 },
 "nbformat": 4,
 "nbformat_minor": 2
}
